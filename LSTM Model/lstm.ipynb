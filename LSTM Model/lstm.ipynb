{
  "nbformat": 4,
  "nbformat_minor": 0,
  "metadata": {
    "colab": {
      "name": "Influenza LSTM 2.ipynb",
      "provenance": [],
      "collapsed_sections": []
    },
    "kernelspec": {
      "name": "python3",
      "display_name": "Python 3"
    }
  },
  "cells": [
    {
      "cell_type": "code",
      "metadata": {
        "id": "KtCgxTbBpDLq",
        "colab_type": "code",
        "colab": {}
      },
      "source": [
        "import pandas as pd\n",
        "import numpy as np\n",
        "from matplotlib import pyplot"
      ],
      "execution_count": 0,
      "outputs": []
    },
    {
      "cell_type": "code",
      "metadata": {
        "id": "ePxXLVC_rmPu",
        "colab_type": "code",
        "colab": {}
      },
      "source": [
        "def makeHistoricalData(h, r, target, feature_selection):\n",
        "        ''' in this code when h is 1, it means there is no history and we have just one column for each covariate\n",
        "        so when h is 0, we put h equal to 1, because when h is 0 that means there no history (as when h is 1) '''\n",
        "        if h == 0:\n",
        "                h = 1\n",
        "        \n",
        "        independantOfTimeData = pd.read_csv('/content/drive/My Drive/full-fixed-data.csv')\n",
        "        timeDeapandantData = pd.read_csv('/content/drive/My Drive/full-temporal-data.csv')\n",
        "\n",
        "        allData = pd.merge(independantOfTimeData, timeDeapandantData, on='county_fips')\n",
        "        allData = allData.sort_values(by=['date', 'county_fips'])\n",
        "        allData = allData.reset_index(drop=True)z\n",
        "        # this columns are not numercal and wouldn't be included in correlation matrix, we store them to concatenate them later\n",
        "        notNumericlData = allData[['county_name', 'state_name', 'county_fips', 'state_fips', 'date']]\n",
        "        allData=allData.drop(['county_name', 'state_name', 'county_fips', 'state_fips', 'date'],axis=1)\n",
        "        \n",
        "        # next 19 lines ranking columns with mRMR\n",
        "        cor=allData.corr().abs()\n",
        "        valid_feature=cor.index.drop([target])\n",
        "        overall_rank_df=pd.DataFrame(index=cor.index,columns=['mrmr_rank'])\n",
        "        for i in cor.index:\n",
        "            overall_rank_df.loc[i,'mrmr_rank']=cor.loc[i,target]-cor.loc[i,valid_feature].mean()\n",
        "        overall_rank_df=overall_rank_df.sort_values(by='mrmr_rank',ascending=False)\n",
        "        overall_rank=overall_rank_df.index.tolist()\n",
        "        final_rank=[]\n",
        "        final_rank=overall_rank[0:2]\n",
        "        overall_rank=overall_rank[2:]\n",
        "        while len(overall_rank)>0:\n",
        "            temp=pd.DataFrame(index=overall_rank,columns=['mrmr_rank'])\n",
        "            for i in overall_rank:\n",
        "                temp.loc[i,'mrmr_rank']=cor.loc[i,target]-cor.loc[i,final_rank[1:]].mean()\n",
        "            temp=temp.sort_values(by='mrmr_rank',ascending=False)\n",
        "            final_rank.append(temp.index[0])\n",
        "            overall_rank.remove(temp.index[0])\n",
        "\n",
        "        # next 6 lines arranges columns in order of correlations with target or by mRMR rank\n",
        "        if(feature_selection=='mrmr'):\n",
        "            ix=final_rank\n",
        "        else:\n",
        "            ix = allData.corr().abs().sort_values(target, ascending=False).index\n",
        "        \n",
        "        allData = allData.loc[:, ix]\n",
        "        allData = pd.concat([allData, notNumericlData], axis=1)\n",
        "\n",
        "        nameOfTimeDependantCovariates = timeDeapandantData.columns.values.tolist()\n",
        "        nameOfAllCovariates = allData.columns.values.tolist()\n",
        "\n",
        "        result = pd.DataFrame()  # we store historical data in this dataframe\n",
        "        totalNumberOfCounties = len(allData['county_fips'].unique())\n",
        "        totalNumberOfDays = len(allData['date'].unique())\n",
        "\n",
        "        # in this loop we make historical data\n",
        "        for name in nameOfAllCovariates:\n",
        "                # if covariate is time dependant\n",
        "                if name in nameOfTimeDependantCovariates and name not in ['date', 'county_fips']:\n",
        "                        temporalDataFrame = allData[[name]] # selecting column of the covariate that is being processed\n",
        "                        threshold = 0\n",
        "                        while threshold != h:\n",
        "                                # get value of covariate that is being processed in first (totalNumberOfDays-h-r+1) days\n",
        "                                temp = temporalDataFrame.head((totalNumberOfDays-h-r+1)*totalNumberOfCounties).copy().reset_index(drop=True)\n",
        "                                temp.rename(columns={name: (name + ' t-' + str(h-threshold-1))}, inplace=True) # renaming column\n",
        "                                result = pd.concat([result, temp], axis=1)\n",
        "                                # deleting the values in first day in temporalDataFrame dataframe (similiar to shift)\n",
        "                                temporalDataFrame = temporalDataFrame.iloc[totalNumberOfCounties:]\n",
        "                                threshold += 1\n",
        "                # if covariate is independant of time\n",
        "                elif name not in nameOfTimeDependantCovariates and name not in ['date', 'county_fips']:\n",
        "                        temporalDataFrame = allData[[name]]\n",
        "                        temp = temporalDataFrame.head((totalNumberOfDays-h-r+1)*totalNumberOfCounties).copy().reset_index(drop=True)\n",
        "                        result = pd.concat([result, temp], axis=1)\n",
        "\n",
        "        # next 3 lines is for adding FIPS code to final dataframe\n",
        "        temporalDataFrame = allData[['county_fips']]\n",
        "        temp = temporalDataFrame.head((totalNumberOfDays-h-r+1)*totalNumberOfCounties).copy().reset_index(drop=True)\n",
        "        result.insert(0, 'county_fips', temp)\n",
        "\n",
        "        # next 3 lines is for adding date of day (t) to final dataframe\n",
        "        temporalDataFrame = allData[['date']]\n",
        "        temporalDataFrame = temporalDataFrame[totalNumberOfCounties*(h-1):]\n",
        "        temp = temporalDataFrame.head((totalNumberOfDays-h-r+1)*totalNumberOfCounties).copy().reset_index(drop=True)\n",
        "        result.insert(1, 'date of day t', temp)\n",
        "\n",
        "        # next 3 lines is for adding target to final dataframe\n",
        "        temporalDataFrame = allData[[target]]\n",
        "        temporalDataFrame = temporalDataFrame.tail((totalNumberOfDays-h-r+1)*totalNumberOfCounties).reset_index(drop=True)\n",
        "        result.insert(1, 'Target', temporalDataFrame)\n",
        "        for i in result.columns:\n",
        "            if i.endswith('t-0'):\n",
        "                result.rename(columns={i: i[:-2]}, inplace=True)\n",
        "\n",
        "        return result"
      ],
      "execution_count": 0,
      "outputs": []
    },
    {
      "cell_type": "code",
      "metadata": {
        "id": "GbTiti5Ur4JX",
        "colab_type": "code",
        "colab": {}
      },
      "source": [
        "import pandas as pd\n",
        "import numpy as np\n",
        "from sklearn.model_selection import train_test_split\n",
        "import time\n",
        "from sys import argv\n",
        "from math import floor\n",
        "import os\n",
        "\n",
        "\n",
        "\n",
        "\n",
        "######################################################### split data to train, val, test\n",
        "def splitData(numberOfCounties, main_data, target, offset, j_offset):\n",
        "\n",
        "    X = pd.DataFrame()zzzzz\n",
        "    y = pd.DataFrame()\n",
        "    for i in range(numberOfCounties + 1):\n",
        "        j = i * numberOfDays + j_offset\n",
        "        X = X.append(main_data.loc[j:j + offset - 1])\n",
        "        y = y.append(target.loc[j:j + offset - 1])\n",
        "\n",
        "    return X, y\n",
        "\n",
        "\n",
        "########################################################### clean data\n",
        "def clean_data(data, numberOfSelectedCounties):\n",
        "\n",
        "    global numberOfDays\n",
        "    data = data.sort_values(by=['county_fips', 'date of day t'])\n",
        "    # select the number of counties we want to use\n",
        "    #numberOfSelectedCounties = numberOfCounties\n",
        "    if numberOfSelectedCounties == -1:\n",
        "        numberOfSelectedCounties = len(data['county_fips'].unique())\n",
        "\n",
        "    using_data = data[(data['county_fips'] <= data['county_fips'].unique()[numberOfSelectedCounties - 1])]\n",
        "    using_data = using_data.reset_index(drop=True)\n",
        "    main_data = using_data.drop(['county_fips', 'state_fips', 'state_name', 'county_name', 'date of day t'],\n",
        "                                axis=1)\n",
        "    # target = pd.DataFrame(main_data['Target'])\n",
        "    # main_data = main_data.drop(['Target'], axis=1)\n",
        "    # numberOfCounties = len(using_data['county_fips'].unique())\n",
        "    numberOfDays = len(using_data['date of day t'].unique())\n",
        "\n",
        "    return main_data\n",
        "\n",
        "\n",
        "########################################################### preprocess\n",
        "def preprocess(main_data, validationFlag):\n",
        "\n",
        "    target = pd.DataFrame(main_data['Target'])\n",
        "    main_data = main_data.drop(['Target'], axis=1)\n",
        "    # specify the size of train, validation and test sets\n",
        "    test_offset = 14\n",
        "    train_offset = floor(0.75 * (numberOfDays - test_offset))\n",
        "    val_offset = numberOfDays - (train_offset + test_offset)\n",
        "    t1 = time.time()\n",
        "\n",
        "\n",
        "    if validationFlag:     # validationFlag is 1 if we want to have a validation set and 0 otherwise\n",
        "        # add the functions to the multiprocessing object, loom\n",
        "        X_train_train,y_train_train = splitData(numberOfSelectedCounties, main_data, target, train_offset, 0)\n",
        "        X_train_train = X_train_train.reset_index(drop=True)\n",
        "\n",
        "        X_train_val,y_train_val = np.array(splitData(numberOfSelectedCounties, main_data, target, val_offset, train_offset))\n",
        "        X_train_val = X_train_val.reset_index(drop=True)\n",
        "\n",
        "        X_test,y_test = np.array(splitData(numberOfSelectedCounties, main_data, target, test_offset, train_offset + val_offset))\n",
        "        X_test = X_test.reset_index(drop=True)\n",
        "\n",
        "\n",
        "        t2 = time.time()\n",
        "        #print('total time of data splitting: ', t2 - t1)\n",
        "\n",
        "        return X_train_train, X_train_val, X_test, y_train_train, y_train_val, y_test\n",
        "\n",
        "    else:\n",
        "        X_train ,y_train = splitData(numberOfSelectedCounties, main_data, target, train_offset + val_offset, 0)\n",
        "        X_train = X_train.reset_index(drop=True)\n",
        "\n",
        "        X_test ,y_test = splitData(numberOfSelectedCounties, main_data, target, test_offset, train_offset + val_offset)\n",
        "        X_test = X_test.reset_index(drop=True)\n",
        "\n",
        "        \n",
        "        t2 = time.time()\n",
        "        #print('total time of data splitting: ', t2 - t1)\n",
        "\n",
        "        return X_train, X_test, y_train, y_test"
      ],
      "execution_count": 0,
      "outputs": []
    },
    {
      "cell_type": "code",
      "metadata": {
        "id": "aVHhZpLksEbn",
        "colab_type": "code",
        "colab": {}
      },
      "source": [
        "h = 7\n",
        "r = 14\n",
        "target = 'confirmed'\n",
        "numberOfSelectedCounties = 500  # set to -1 for all the counties\n",
        "\n",
        "data = makeHistoricalData(h, r, target, 'mrmr')\n",
        "data = clean_data(data, numberOfSelectedCounties)\n",
        "\n",
        "################################### with validation\n",
        "\n",
        "X_train_train, X_train_val, X_test, y_train_train, y_train_val, y_test = preprocess(data, 1) # with validation\n",
        "\n",
        "# save to csv\n",
        "train_train=pd.concat([X_train_train.reset_index(drop=True),y_train_train.reset_index(drop=True)],axis=1)\n",
        "train_train.to_csv('train_train.csv',index=False)\n",
        "train_val=pd.concat([X_train_val.reset_index(drop=True),y_train_val.reset_index(drop=True)],axis=1)\n",
        "train_val.to_csv('train_val.csv',index=False)\n",
        "test=pd.concat([X_test.reset_index(drop=True),y_test.reset_index(drop=True)],axis=1)\n",
        "test.to_csv('test.csv',index=False)"
      ],
      "execution_count": 0,
      "outputs": []
    },
    {
      "cell_type": "code",
      "metadata": {
        "id": "UC6f2Iq1sOJM",
        "colab_type": "code",
        "colab": {}
      },
      "source": [
        "train = pd.read_csv('/content/train_train.csv')\n",
        "validation = pd.read_csv('/content/train_val.csv')\n",
        "test = pd.read_csv('/content/test.csv')"
      ],
      "execution_count": 0,
      "outputs": []
    },
    {
      "cell_type": "code",
      "metadata": {
        "id": "hNQm9i8RsupS",
        "colab_type": "code",
        "outputId": "f7546f5c-7018-46a9-e2ea-e3bdffa52e56",
        "colab": {
          "base_uri": "https://localhost:8080/",
          "height": 34
        }
      },
      "source": [
        "print(train.shape, validation.shape, test.shape)"
      ],
      "execution_count": 0,
      "outputs": [
        {
          "output_type": "stream",
          "text": [
            "(27500, 91) (9500, 91) (7000, 91)\n"
          ],
          "name": "stdout"
        }
      ]
    },
    {
      "cell_type": "code",
      "metadata": {
        "id": "cucnXN78sxJw",
        "colab_type": "code",
        "colab": {}
      },
      "source": [
        "X_train = train.drop('Target', axis=1)\n",
        "y_train = train['Target']\n",
        "\n",
        "X_val = validation.drop('Target', axis=1)\n",
        "y_val = validation['Target']\n",
        "\n",
        "X_test = test.drop('Target', axis=1)\n",
        "y_test = test['Target']"
      ],
      "execution_count": 0,
      "outputs": []
    },
    {
      "cell_type": "code",
      "metadata": {
        "id": "3Er6odKlszS0",
        "colab_type": "code",
        "colab": {}
      },
      "source": [
        "import pandas as pd\n",
        "from sklearn import preprocessing\n",
        "\n",
        "X_train = X_train.values\n",
        "min_max_scaler = preprocessing.StandardScaler()\n",
        "X_train = min_max_scaler.fit_transform(X_train)\n",
        "\n",
        "X_val = X_val.values\n",
        "min_max_scaler = preprocessing.StandardScaler()\n",
        "X_val = min_max_scaler.fit_transform(X_val)\n",
        "\n",
        "X_test = X_test.values\n",
        "min_max_scaler = preprocessing.StandardScaler()\n",
        "X_test = min_max_scaler.fit_transform(X_test)\n",
        "\n",
        "y_train = y_train.values\n",
        "min_max_scaler = preprocessing.StandardScaler()\n",
        "y_train = min_max_scaler.fit_transform(y_train.reshape(-1, 1))\n",
        "\n",
        "y_val = y_val.values\n",
        "min_max_scaler = preprocessing.StandardScaler()\n",
        "y_val = min_max_scaler.fit_transform(y_val.reshape(-1, 1))\n",
        "\n",
        "y_test = y_test.values\n",
        "# min_max_scaler = preprocessing.MinMaxScaler()\n",
        "# y_test = min_max_scaler.fit_transform(y_test.reshape(-1, 1))"
      ],
      "execution_count": 0,
      "outputs": []
    },
    {
      "cell_type": "code",
      "metadata": {
        "id": "5gN6Nyj3tohi",
        "colab_type": "code",
        "outputId": "551bde64-2608-4c3b-862e-8dd34b6a6cc1",
        "colab": {
          "base_uri": "https://localhost:8080/",
          "height": 50
        }
      },
      "source": [
        "print(X_train.shape, X_test.shape, X_val.shape)\n",
        "print(y_train.shape, y_test.shape, y_val.shape)"
      ],
      "execution_count": 0,
      "outputs": [
        {
          "output_type": "stream",
          "text": [
            "(27500, 90) (7000, 90) (9500, 90)\n",
            "(27500, 1) (7000,) (9500, 1)\n"
          ],
          "name": "stdout"
        }
      ]
    },
    {
      "cell_type": "code",
      "metadata": {
        "id": "dbPys6botrR4",
        "colab_type": "code",
        "colab": {}
      },
      "source": [
        "X_train = X_train.reshape((X_train.shape[0], 1, X_train.shape[1]))\n",
        "X_val = X_val.reshape((X_val.shape[0], 1, X_val.shape[1]))\n",
        "X_test = X_test.reshape((X_test.shape[0], 1, X_test.shape[1]))\n",
        "\n",
        "y_train = y_train.reshape((y_train.shape[0]), )\n",
        "y_val = y_val.reshape((y_val.shape[0]), )\n",
        "y_test = y_test.reshape((y_test.shape[0]), )"
      ],
      "execution_count": 0,
      "outputs": []
    },
    {
      "cell_type": "code",
      "metadata": {
        "id": "VYeJipiFtt78",
        "colab_type": "code",
        "outputId": "206a0b09-c910-4fbb-827b-47c00e675a54",
        "colab": {
          "base_uri": "https://localhost:8080/",
          "height": 50
        }
      },
      "source": [
        "print(X_train.shape, X_test.shape, X_val.shape)\n",
        "print(y_train.shape, y_test.shape, y_val.shape)"
      ],
      "execution_count": 0,
      "outputs": [
        {
          "output_type": "stream",
          "text": [
            "(27500, 1, 90) (7000, 1, 90) (9500, 1, 90)\n",
            "(27500,) (7000,) (9500,)\n"
          ],
          "name": "stdout"
        }
      ]
    },
    {
      "cell_type": "code",
      "metadata": {
        "id": "M3NHEM5itv4n",
        "colab_type": "code",
        "outputId": "c55563a3-3e0f-48cb-cd7c-e7faca39a201",
        "colab": {
          "base_uri": "https://localhost:8080/",
          "height": 34
        }
      },
      "source": [
        "import tensorflow as tf\n",
        "from tensorflow import keras\n",
        "from keras import Sequential\n",
        "from keras.layers import LSTM\n",
        "from keras.layers import Dense\n",
        "from keras.layers import Dropout\n",
        "import matplotlib.pyplot as plt\n",
        "\n",
        "# step_size = h\n",
        "# num_timesteps = number of columns\n",
        "\n",
        "model = Sequential()\n",
        "model.add(LSTM(4, return_sequences=True, input_shape=(1, X_train.shape[2])))  # returns a sequence of vectors of dimension 32\n",
        "model.add(LSTM(256, dropout=0.2,recurrent_dropout=0.2, return_sequences=True))\n",
        "model.add(LSTM(256, dropout=0.2,recurrent_dropout=0.2, return_sequences=True))\n",
        "model.add(LSTM(128, dropout=0.2,recurrent_dropout=0.2, return_sequences=True))\n",
        "model.add(LSTM(128))\n",
        "model.add(Dense(1, activation='sigmoid'))"
      ],
      "execution_count": 0,
      "outputs": [
        {
          "output_type": "stream",
          "text": [
            "Using TensorFlow backend.\n"
          ],
          "name": "stderr"
        }
      ]
    },
    {
      "cell_type": "code",
      "metadata": {
        "id": "H7E7Yzmzt2nm",
        "colab_type": "code",
        "colab": {}
      },
      "source": [
        "# opt = tf.keras.optimizers.RMSprop(learning_rate=0.1)\n",
        "model.compile (\n",
        "    loss='mean_squared_error',\n",
        "    optimizer=keras.optimizers.Adam(0.001)\n",
        ")"
      ],
      "execution_count": 0,
      "outputs": []
    },
    {
      "cell_type": "code",
      "metadata": {
        "id": "FVPKMhYNt5W9",
        "colab_type": "code",
        "outputId": "657c88e8-695d-46e4-c8cc-3d2e3f3edc67",
        "colab": {
          "base_uri": "https://localhost:8080/",
          "height": 353
        }
      },
      "source": [
        "model.summary()"
      ],
      "execution_count": 0,
      "outputs": [
        {
          "output_type": "stream",
          "text": [
            "Model: \"sequential_1\"\n",
            "_________________________________________________________________\n",
            "Layer (type)                 Output Shape              Param #   \n",
            "=================================================================\n",
            "lstm_1 (LSTM)                (None, 1, 4)              1520      \n",
            "_________________________________________________________________\n",
            "lstm_2 (LSTM)                (None, 1, 256)            267264    \n",
            "_________________________________________________________________\n",
            "lstm_3 (LSTM)                (None, 1, 256)            525312    \n",
            "_________________________________________________________________\n",
            "lstm_4 (LSTM)                (None, 1, 128)            197120    \n",
            "_________________________________________________________________\n",
            "lstm_5 (LSTM)                (None, 128)               131584    \n",
            "_________________________________________________________________\n",
            "dense_1 (Dense)              (None, 1)                 129       \n",
            "=================================================================\n",
            "Total params: 1,122,929\n",
            "Trainable params: 1,122,929\n",
            "Non-trainable params: 0\n",
            "_________________________________________________________________\n"
          ],
          "name": "stdout"
        }
      ]
    },
    {
      "cell_type": "code",
      "metadata": {
        "id": "7udXRL73t8QL",
        "colab_type": "code",
        "outputId": "1a0dc11e-874e-4bff-ad37-add5abfd217a",
        "colab": {
          "base_uri": "https://localhost:8080/",
          "height": 1000
        }
      },
      "source": [
        "history = model.fit (\n",
        "    X_train, y_train,\n",
        "    epochs=50,\n",
        "    batch_size=128,\n",
        "    validation_data=(X_val, y_val),\n",
        "    verbose=1,\n",
        "    shuffle=False\n",
        ")"
      ],
      "execution_count": 0,
      "outputs": [
        {
          "output_type": "stream",
          "text": [
            "Train on 27500 samples, validate on 9500 samples\n",
            "Epoch 1/50\n",
            "27500/27500 [==============================] - 19s 701us/step - loss: 1.0130 - val_loss: 0.8888\n",
            "Epoch 2/50\n",
            "27500/27500 [==============================] - 16s 568us/step - loss: 0.9094 - val_loss: 0.8861\n",
            "Epoch 3/50\n",
            "27500/27500 [==============================] - 15s 553us/step - loss: 0.9087 - val_loss: 0.8816\n",
            "Epoch 4/50\n",
            "27500/27500 [==============================] - 15s 548us/step - loss: 0.8965 - val_loss: 0.8794\n",
            "Epoch 5/50\n",
            "27500/27500 [==============================] - 15s 555us/step - loss: 0.8992 - val_loss: 0.8954\n",
            "Epoch 6/50\n",
            "27500/27500 [==============================] - 15s 559us/step - loss: 0.8937 - val_loss: 0.8728\n",
            "Epoch 7/50\n",
            "27500/27500 [==============================] - 16s 566us/step - loss: 0.8931 - val_loss: 0.8722\n",
            "Epoch 8/50\n",
            "27500/27500 [==============================] - 15s 560us/step - loss: 0.8894 - val_loss: 0.8769\n",
            "Epoch 9/50\n",
            "27500/27500 [==============================] - 15s 556us/step - loss: 0.8898 - val_loss: 0.8746\n",
            "Epoch 10/50\n",
            "27500/27500 [==============================] - 15s 543us/step - loss: 0.8904 - val_loss: 0.8715\n",
            "Epoch 11/50\n",
            "27500/27500 [==============================] - 15s 544us/step - loss: 0.8890 - val_loss: 0.8803\n",
            "Epoch 12/50\n",
            "27500/27500 [==============================] - 15s 536us/step - loss: 0.8882 - val_loss: 0.8710\n",
            "Epoch 13/50\n",
            "27500/27500 [==============================] - 15s 549us/step - loss: 0.8897 - val_loss: 0.8799\n",
            "Epoch 14/50\n",
            "27500/27500 [==============================] - 16s 574us/step - loss: 0.8880 - val_loss: 0.8754\n",
            "Epoch 15/50\n",
            "27500/27500 [==============================] - 15s 549us/step - loss: 0.8886 - val_loss: 0.8870\n",
            "Epoch 16/50\n",
            "27500/27500 [==============================] - 15s 554us/step - loss: 0.8867 - val_loss: 0.8789\n",
            "Epoch 17/50\n",
            "27500/27500 [==============================] - 15s 543us/step - loss: 0.8871 - val_loss: 0.8778\n",
            "Epoch 18/50\n",
            "27500/27500 [==============================] - 15s 533us/step - loss: 0.8860 - val_loss: 0.8775\n",
            "Epoch 19/50\n",
            "27500/27500 [==============================] - 15s 535us/step - loss: 0.8855 - val_loss: 0.8830\n",
            "Epoch 20/50\n",
            "27500/27500 [==============================] - 15s 535us/step - loss: 0.8868 - val_loss: 0.8843\n",
            "Epoch 21/50\n",
            "27500/27500 [==============================] - 15s 533us/step - loss: 0.8851 - val_loss: 0.8784\n",
            "Epoch 22/50\n",
            "27500/27500 [==============================] - 14s 519us/step - loss: 0.8851 - val_loss: 0.8797\n",
            "Epoch 23/50\n",
            "27500/27500 [==============================] - 15s 535us/step - loss: 0.8847 - val_loss: 0.8748\n",
            "Epoch 24/50\n",
            "27500/27500 [==============================] - 15s 530us/step - loss: 0.8839 - val_loss: 0.8835\n",
            "Epoch 25/50\n",
            "27500/27500 [==============================] - 14s 515us/step - loss: 0.8856 - val_loss: 0.8763\n",
            "Epoch 26/50\n",
            "27500/27500 [==============================] - 14s 520us/step - loss: 0.8851 - val_loss: 0.8759\n",
            "Epoch 27/50\n",
            "27500/27500 [==============================] - 15s 550us/step - loss: 0.8858 - val_loss: 0.8818\n",
            "Epoch 28/50\n",
            "27500/27500 [==============================] - 15s 533us/step - loss: 0.8849 - val_loss: 0.8778\n",
            "Epoch 29/50\n",
            "27500/27500 [==============================] - 14s 521us/step - loss: 0.8847 - val_loss: 0.8853\n",
            "Epoch 30/50\n",
            "27500/27500 [==============================] - 14s 519us/step - loss: 0.8845 - val_loss: 0.8790\n",
            "Epoch 31/50\n",
            "27500/27500 [==============================] - 15s 532us/step - loss: 0.8822 - val_loss: 0.8804\n",
            "Epoch 32/50\n",
            "27500/27500 [==============================] - 15s 533us/step - loss: 0.8826 - val_loss: 0.8797\n",
            "Epoch 33/50\n",
            "27500/27500 [==============================] - 14s 517us/step - loss: 0.8825 - val_loss: 0.8798\n",
            "Epoch 34/50\n",
            "27500/27500 [==============================] - 14s 514us/step - loss: 0.8814 - val_loss: 0.8784\n",
            "Epoch 35/50\n",
            "27500/27500 [==============================] - 14s 525us/step - loss: 0.8838 - val_loss: 0.8753\n",
            "Epoch 36/50\n",
            "27500/27500 [==============================] - 14s 518us/step - loss: 0.8830 - val_loss: 0.8801\n",
            "Epoch 37/50\n",
            "27500/27500 [==============================] - 14s 517us/step - loss: 0.8841 - val_loss: 0.8710\n",
            "Epoch 38/50\n",
            "27500/27500 [==============================] - 15s 539us/step - loss: 0.8847 - val_loss: 0.8775\n",
            "Epoch 39/50\n",
            "27500/27500 [==============================] - 15s 535us/step - loss: 0.8835 - val_loss: 0.8808\n",
            "Epoch 40/50\n",
            "27500/27500 [==============================] - 15s 530us/step - loss: 0.8820 - val_loss: 0.8813\n",
            "Epoch 41/50\n",
            "27500/27500 [==============================] - 14s 520us/step - loss: 0.8814 - val_loss: 0.8784\n",
            "Epoch 42/50\n",
            "27500/27500 [==============================] - 14s 518us/step - loss: 0.8817 - val_loss: 0.8877\n",
            "Epoch 43/50\n",
            "27500/27500 [==============================] - 15s 533us/step - loss: 0.8810 - val_loss: 0.8776\n",
            "Epoch 44/50\n",
            "27500/27500 [==============================] - 15s 543us/step - loss: 0.8818 - val_loss: 0.8733\n",
            "Epoch 45/50\n",
            "27500/27500 [==============================] - 15s 529us/step - loss: 0.8808 - val_loss: 0.8787\n",
            "Epoch 46/50\n",
            "27500/27500 [==============================] - 15s 538us/step - loss: 0.8804 - val_loss: 0.8776\n",
            "Epoch 47/50\n",
            "27500/27500 [==============================] - 15s 542us/step - loss: 0.8811 - val_loss: 0.8816\n",
            "Epoch 48/50\n",
            "27500/27500 [==============================] - 15s 553us/step - loss: 0.8804 - val_loss: 0.8796\n",
            "Epoch 49/50\n",
            "27500/27500 [==============================] - 15s 533us/step - loss: 0.8801 - val_loss: 0.8734\n",
            "Epoch 50/50\n",
            "27500/27500 [==============================] - 15s 558us/step - loss: 0.8811 - val_loss: 0.8776\n"
          ],
          "name": "stdout"
        }
      ]
    },
    {
      "cell_type": "code",
      "metadata": {
        "id": "Fvk6LxRpt-qy",
        "colab_type": "code",
        "outputId": "1458faae-e9b0-4f7a-d290-2ef7b313dbb4",
        "colab": {
          "base_uri": "https://localhost:8080/",
          "height": 283
        }
      },
      "source": [
        "# plot history\n",
        "import matplotlib.pyplot as plt\n",
        "from google.colab import files\n",
        "\n",
        "fig = plt.figure()\n",
        "plt.plot(history.history['loss'], label='train')\n",
        "plt.plot(history.history['val_loss'], label='test')\n",
        "plt.xlabel('Epoch')\n",
        "plt.ylabel('Loss')\n",
        "plt.legend()\n",
        "plt.show()\n",
        "fig.savefig(\"h=1.png\", dpi=600, quality=100)\n",
        "files.download(\"h=1.png\")"
      ],
      "execution_count": 0,
      "outputs": [
        {
          "output_type": "display_data",
          "data": {
            "image/png": "[encoded data removed]",
            "text/plain": [
              "<Figure size 432x288 with 1 Axes>"
            ]
          },
          "metadata": {
            "tags": [],
            "needs_background": "light"
          }
        }
      ]
    },
    {
      "cell_type": "code",
      "metadata": {
        "id": "g23haJ-Nzdvn",
        "colab_type": "code",
        "colab": {}
      },
      "source": [
        "predictions = model.predict(X_test)\n",
        "predictions = min_max_scaler.inverse_transform(predictions)"
      ],
      "execution_count": 0,
      "outputs": []
    },
    {
      "cell_type": "code",
      "metadata": {
        "id": "QeN17rVc1OSb",
        "colab_type": "code",
        "outputId": "03371f26-02e7-4113-85ec-f4937e54a2f1",
        "colab": {
          "base_uri": "https://localhost:8080/",
          "height": 388
        }
      },
      "source": [
        "figure = plt.figure(figsize=(10,6))\n",
        "plt.plot(y_test, color='blue', label='Actual')\n",
        "plt.plot(predictions , color='red', label='Predicted')\n",
        "plt.xlabel('Days')\n",
        "plt.ylabel('Target')\n",
        "plt.legend()\n",
        "plt.show()\n",
        "figure.savefig('comp_h=1.png', dpi=600, quality=100)\n",
        "files.download('comp_h=1.png')"
      ],
      "execution_count": 0,
      "outputs": [
        {
          "output_type": "display_data",
          "data": {
            "image/png": "[encoded data removed]",
            "text/plain": [
              "<Figure size 720x432 with 1 Axes>"
            ]
          },
          "metadata": {
            "tags": [],
            "needs_background": "light"
          }
        }
      ]
    },
    {
      "cell_type": "code",
      "metadata": {
        "id": "gNivd7wq1m9a",
        "colab_type": "code",
        "colab": {}
      },
      "source": [
        "result = pd.DataFrame()\n",
        "result['Prediction'] = predictions.reshape(predictions.shape[0]).tolist()\n",
        "result['Actual'] = y_test.reshape(y_test.shape[0]).tolist()\n",
        "result.to_csv('result_h=1.csv', mode='w', index=False)\n",
        "files.download('result_h=1.csv')"
      ],
      "execution_count": 0,
      "outputs": []
    },
    {
      "cell_type": "code",
      "metadata": {
        "id": "ntliNFl1Ina5",
        "colab_type": "code",
        "colab": {}
      },
      "source": [
        ""
      ],
      "execution_count": 0,
      "outputs": []
    }
  ]
}