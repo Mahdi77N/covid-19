{
  "cells": [
    {
      "cell_type": "code",
      "metadata": {
        "id": "WeP3lmSPYW1Q",
        "colab_type": "code",
        "colab": {}
      },
      "source": [
        "!pip install geopandas"
      ],
      "execution_count": 0,
      "outputs": []
    },
    {
      "cell_type": "code",
      "metadata": {
        "id": "gfyzBIiOvzEz",
        "colab_type": "code",
        "colab": {}
      },
      "source": [
        "from google.colab import drive\n",
        "drive.mount('/content/gdrive')"
      ],
      "execution_count": 0,
      "outputs": []
    },
    {
      "cell_type": "code",
      "metadata": {
        "id": "vvyWy3_qZPp3",
        "colab_type": "code",
        "colab": {}
      },
      "source": [
        "!ls -la gdrive"
      ],
      "execution_count": 0,
      "outputs": []
    },
    {
      "cell_type": "code",
      "metadata": {
        "id": "kG9yS-Mhcisy",
        "colab_type": "code",
        "colab": {}
      },
      "source": [
        "import geopandas\n",
        "import matplotlib\n",
        "from shapely.geometry import Polygon, box\n",
        "\n",
        "# counties = geopandas.read_file(\"../jsonFiles/gz_2010_us_050_00_20m.json\", encoding='latin-1')\n",
        "counties = geopandas.read_file(\"gdrive/My Drive/counties.json\")\n",
        "# counties[counties['STATE'].isin(['02','15']) == False].plot(figsize=(30,20), color='#3B3C6E');\n",
        "# counties.plot(figsize=(30,20))\n",
        "classAcounties = counties[counties['STATE'].isin(['02','15']) == False]\n",
        "classAcounties.plot(figsize=(30,20))"
      ],
      "execution_count": 0,
      "outputs": []
    },
    {
      "cell_type": "code",
      "metadata": {
        "id": "VEkkV7JAI7qE",
        "colab_type": "code",
        "outputId": "77157e71-d9fe-41c9-884f-904285f1e076",
        "colab": {
          "base_uri": "https://localhost:8080/",
          "height": 34
        }
      },
      "source": [
        "from shapely.geometry import Polygon, box\n",
        "import json\n",
        "import progressbar\n",
        "\n",
        "#### plot map\n",
        "# classAcounties.plot(figsize=(30,20))\n",
        "\n",
        "baseX = -110    #-125\n",
        "endX = -100     #-65\n",
        "stepX = 3\n",
        "lenX = int((endX - baseX) * stepX)\n",
        "baseY = 35      #25\n",
        "endY = 40       #50\n",
        "stepY = 3\n",
        "lenY = int((endY - baseY) * stepY)\n",
        "\n",
        "progressBarWidget = [progressbar.Percentage(),\n",
        "' ',\n",
        "progressbar.Bar('=', '[', ']'),\n",
        "' '\n",
        "]\n",
        "progressBar = progressbar.ProgressBar(maxval=lenX*lenY, widgets=progressBarWidget)\n",
        "progressBar.start()\n",
        "\n",
        "grid = []\n",
        "polygon_grid = []\n",
        "for i in range(lenX):\n",
        "  grid_row = []\n",
        "  polygon_grid_row = []\n",
        "  for j in range(lenY):\n",
        "    cell_data = []\n",
        "    polygon_cell = box(baseX + i/stepX, baseY + j/stepY,baseX + (i+1)/stepX, baseY + (j+1)/stepY)\n",
        "\n",
        "    #### plot grid cells\n",
        "    # x,y = cell_data['polygon'].exterior.xy\n",
        "    # matplotlib.pyplot.plot(x,y)\n",
        "\n",
        "    #### calculate counties intersections\n",
        "    for index, row in counties.iterrows():\n",
        "      countyArea = row['geometry'].area\n",
        "      intersectionArea = polygon_cell.intersection(row['geometry']).area\n",
        "      if intersectionArea != 0:\n",
        "        fips = int(row['STATE'] + row['COUNTY'], 10)\n",
        "        cell_data.append({'fips':fips, 'percent':intersectionArea/countyArea})\n",
        "\n",
        "    grid_row.append(cell_data)\n",
        "    polygon_grid_row.append(polygon_cell)\n",
        "    progressBar.update((i * lenY) + j)\n",
        "  grid.append(grid_row)\n",
        "  polygon_grid.append(polygon_grid_row)\n",
        "\n",
        "progressBar.finish()\n",
        "x = json.dumps(grid)\n",
        "\n",
        "with open('gdrive/My Drive/map_intersection.json', 'w') as fd:\n",
        "  fd.write(x)"
      ],
      "execution_count": 0,
      "outputs": [
        {
          "output_type": "stream",
          "text": [
            "100% [=======================================================================] \n"
          ],
          "name": "stderr"
        }
      ]
    }
  ],
  "metadata": {
    "colab": {
      "name": "map.ipynb",
      "provenance": [],
      "collapsed_sections": []
    },
    "kernelspec": {
      "name": "python3",
      "display_name": "Python 3"
    }
  },
  "nbformat": 4,
  "nbformat_minor": 0
}